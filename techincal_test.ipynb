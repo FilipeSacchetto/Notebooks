{
  "nbformat": 4,
  "nbformat_minor": 0,
  "metadata": {
    "colab": {
      "provenance": []
    },
    "kernelspec": {
      "name": "python3",
      "display_name": "Python 3"
    },
    "language_info": {
      "name": "python"
    }
  },
  "cells": [
    {
      "cell_type": "code",
      "execution_count": 2,
      "metadata": {
        "id": "LEvMEdC0wUJi"
      },
      "outputs": [],
      "source": [
        "# Python packages \n",
        "import pandas as pd\n",
        "from google.colab import drive"
      ]
    },
    {
      "cell_type": "markdown",
      "source": [
        "**Task 1. Working with data**\n",
        "\n",
        "[movie_metadata.csv](https://s3-us-west-2.amazonaws.com/secure.notion-static.com/fb728421-b488-45ef-9d84-61f73a1f57e5/movie_metadata.csv)\n",
        "\n",
        "To complete this task, use the data set in the attached file. Indicate the answer to each of the following steps and time to complete the entire task.\n",
        "\n",
        "1.1. Download the data set `movie_metadata.csv`, which contains data about films from IMDb (Internet Movie Database).\n",
        "\n",
        "1.2. The `duration` column contains data on the film length. How many missing values are there in this column?\n",
        "\n",
        "1.3. Replace the missing values in the `duration` column with the median value for this column.\n",
        "\n",
        "1.4. What is the average film length? Give the answer as a floating-point figure rounded to two decimal places.\n",
        "\n",
        "1.5. How many films between 90 minutes and two hours long were released in 2008?\n",
        "\n",
        "1.6. The `budget` column contains the film's budget. What is the median budget for all the films listed? Give the answer as an integer."
      ],
      "metadata": {
        "id": "J4BzHKDuwm9K"
      }
    },
    {
      "cell_type": "code",
      "source": [
        "drive.mount('/content/drive')\n",
        "df = pd.read_csv('/content/drive/MyDrive/movie_metadata.csv')"
      ],
      "metadata": {
        "colab": {
          "base_uri": "https://localhost:8080/"
        },
        "id": "BXvwYPgWxrnU",
        "outputId": "32bd9770-b1eb-4848-c117-51d1519449a6"
      },
      "execution_count": 4,
      "outputs": [
        {
          "output_type": "stream",
          "name": "stdout",
          "text": [
            "Drive already mounted at /content/drive; to attempt to forcibly remount, call drive.mount(\"/content/drive\", force_remount=True).\n"
          ]
        }
      ]
    },
    {
      "cell_type": "markdown",
      "source": [
        "Here in the question 1.2 is asked to find how many missing values are in the column duration.\n",
        "\n",
        "To do so, we are going to use pandas package for this. In pure python it's possible to do by dictionary, although that is a big work around. Therefore a simpler solution with pandas is better for a day-a-day working basis."
      ],
      "metadata": {
        "id": "eM3ELFPuyifd"
      }
    },
    {
      "cell_type": "code",
      "source": [
        "# pd.DataFrame.columns can show us all the columns names\n",
        "# and here qe can see the column needed for the question (duration)\n",
        "df.columns"
      ],
      "metadata": {
        "colab": {
          "base_uri": "https://localhost:8080/"
        },
        "id": "PhYw4HulyWFp",
        "outputId": "a9e031ac-4b62-44cc-8aec-a3b53a2c0bff"
      },
      "execution_count": 8,
      "outputs": [
        {
          "output_type": "execute_result",
          "data": {
            "text/plain": [
              "Index(['color', 'director_name', 'num_critic_for_reviews', 'duration',\n",
              "       'director_facebook_likes', 'actor_3_facebook_likes', 'actor_2_name',\n",
              "       'actor_1_facebook_likes', 'gross', 'genres', 'actor_1_name',\n",
              "       'movie_title', 'num_voted_users', 'cast_total_facebook_likes',\n",
              "       'actor_3_name', 'facenumber_in_poster', 'plot_keywords',\n",
              "       'movie_imdb_link', 'num_user_for_reviews', 'language', 'country',\n",
              "       'content_rating', 'budget', 'title_year', 'actor_2_facebook_likes',\n",
              "       'imdb_score', 'aspect_ratio', 'movie_facebook_likes'],\n",
              "      dtype='object')"
            ]
          },
          "metadata": {},
          "execution_count": 8
        }
      ]
    },
    {
      "cell_type": "code",
      "source": [
        "# in pandas there a many ways to solve the same problema. \n",
        "# you can approach this as dots, like I did bellow or\n",
        "# you can go by list - df['duration'].isnull().sum()\n",
        "df.duration.isnull().sum()"
      ],
      "metadata": {
        "colab": {
          "base_uri": "https://localhost:8080/"
        },
        "id": "zJ3eZE2iyaTF",
        "outputId": "ace029ab-c656-47cf-ea51-6ce8c72475b1"
      },
      "execution_count": 9,
      "outputs": [
        {
          "output_type": "execute_result",
          "data": {
            "text/plain": [
              "15"
            ]
          },
          "metadata": {},
          "execution_count": 9
        }
      ]
    },
    {
      "cell_type": "code",
      "source": [
        "# to double check if we are right we can use pd.DataFrame.info()\n",
        "# this can guive us a bunch of data, including number of non-nulls.\n",
        "df.info()\n",
        "# doing the math: \n",
        "# we have 5043 total registers in the hole table\n",
        "# and 5028 total duration \n",
        "print(f'Number of nulls in description {5043 - 5028}')"
      ],
      "metadata": {
        "colab": {
          "base_uri": "https://localhost:8080/"
        },
        "id": "kv2pWQmzzyeA",
        "outputId": "e8ffb19f-0613-4ea7-92c2-c1d899e42345"
      },
      "execution_count": 24,
      "outputs": [
        {
          "output_type": "stream",
          "name": "stdout",
          "text": [
            "<class 'pandas.core.frame.DataFrame'>\n",
            "RangeIndex: 5043 entries, 0 to 5042\n",
            "Data columns (total 28 columns):\n",
            " #   Column                     Non-Null Count  Dtype  \n",
            "---  ------                     --------------  -----  \n",
            " 0   color                      5024 non-null   object \n",
            " 1   director_name              4939 non-null   object \n",
            " 2   num_critic_for_reviews     4993 non-null   float64\n",
            " 3   duration                   5028 non-null   float64\n",
            " 4   director_facebook_likes    4939 non-null   float64\n",
            " 5   actor_3_facebook_likes     5020 non-null   float64\n",
            " 6   actor_2_name               5030 non-null   object \n",
            " 7   actor_1_facebook_likes     5036 non-null   float64\n",
            " 8   gross                      4159 non-null   float64\n",
            " 9   genres                     5043 non-null   object \n",
            " 10  actor_1_name               5036 non-null   object \n",
            " 11  movie_title                5043 non-null   object \n",
            " 12  num_voted_users            5043 non-null   int64  \n",
            " 13  cast_total_facebook_likes  5043 non-null   int64  \n",
            " 14  actor_3_name               5020 non-null   object \n",
            " 15  facenumber_in_poster       5030 non-null   float64\n",
            " 16  plot_keywords              4890 non-null   object \n",
            " 17  movie_imdb_link            5043 non-null   object \n",
            " 18  num_user_for_reviews       5022 non-null   float64\n",
            " 19  language                   5031 non-null   object \n",
            " 20  country                    5038 non-null   object \n",
            " 21  content_rating             4740 non-null   object \n",
            " 22  budget                     5043 non-null   object \n",
            " 23  title_year                 4935 non-null   float64\n",
            " 24  actor_2_facebook_likes     5030 non-null   float64\n",
            " 25  imdb_score                 5043 non-null   float64\n",
            " 26  aspect_ratio               4714 non-null   float64\n",
            " 27  movie_facebook_likes       5043 non-null   int64  \n",
            "dtypes: float64(12), int64(3), object(13)\n",
            "memory usage: 1.1+ MB\n",
            "Number of nulls in description 15\n"
          ]
        }
      ]
    },
    {
      "cell_type": "markdown",
      "source": [
        "So, we prove that the number of nulls were correct"
      ],
      "metadata": {
        "id": "GEI0Zyku0neV"
      }
    },
    {
      "cell_type": "markdown",
      "source": [
        "Now we're gonna replace the nulls for this column mean value. To do so, we need to use another pandas function. This time assiciate .mean() at the end of df.column_name alongside the function fillna()."
      ],
      "metadata": {
        "id": "PfV2IryL24Wp"
      }
    },
    {
      "cell_type": "code",
      "source": [
        "# here is set the column that we need thoses NaN to be filled and inside\n",
        "# the function expects some value.\n",
        "df.duration.fillna(df.duration.mean())"
      ],
      "metadata": {
        "colab": {
          "base_uri": "https://localhost:8080/"
        },
        "id": "BmBB48l3IM7E",
        "outputId": "6f3acd92-1461-4cc5-b1f5-a17856f903e8"
      },
      "execution_count": 25,
      "outputs": [
        {
          "output_type": "execute_result",
          "data": {
            "text/plain": [
              "0       178.000000\n",
              "1       169.000000\n",
              "2       148.000000\n",
              "3       164.000000\n",
              "4       107.201074\n",
              "           ...    \n",
              "5038     87.000000\n",
              "5039     43.000000\n",
              "5040     76.000000\n",
              "5041    100.000000\n",
              "5042     90.000000\n",
              "Name: duration, Length: 5043, dtype: float64"
            ]
          },
          "metadata": {},
          "execution_count": 25
        }
      ]
    },
    {
      "cell_type": "markdown",
      "source": [
        "Done, now you can see that this column has its nan filled with mean() value. This approach is sometimes not the best because without plotting a boxplot - or doing something that shows outlyers - we can't be sure how many outlyers has in this dataset. That said, we can't be sure if this was the best approach. But, I'll attain to what is asked.\n",
        "Now I can save this duration without NaN in other column - I highly recommend - or overwrite the column with the values."
      ],
      "metadata": {
        "id": "2Tr2YivBIkg-"
      }
    },
    {
      "cell_type": "code",
      "source": [
        "# to be more clinical with an analysis I'll be saving this duration\n",
        "# without NaN's in a new collumn called duration_no_nan\n",
        "df['duration_no_nan'] = df.duration.fillna(df.duration.mean())"
      ],
      "metadata": {
        "id": "MAyYBefSJfvy"
      },
      "execution_count": 30,
      "outputs": []
    },
    {
      "cell_type": "code",
      "source": [
        "# now we can see that I added a new column to the dataframe\n",
        "df.columns"
      ],
      "metadata": {
        "colab": {
          "base_uri": "https://localhost:8080/"
        },
        "id": "mQLM1uY5JxcX",
        "outputId": "728e71ed-1a12-4247-d54a-e45207dbdeb9"
      },
      "execution_count": 31,
      "outputs": [
        {
          "output_type": "execute_result",
          "data": {
            "text/plain": [
              "Index(['color', 'director_name', 'num_critic_for_reviews', 'duration',\n",
              "       'director_facebook_likes', 'actor_3_facebook_likes', 'actor_2_name',\n",
              "       'actor_1_facebook_likes', 'gross', 'genres', 'actor_1_name',\n",
              "       'movie_title', 'num_voted_users', 'cast_total_facebook_likes',\n",
              "       'actor_3_name', 'facenumber_in_poster', 'plot_keywords',\n",
              "       'movie_imdb_link', 'num_user_for_reviews', 'language', 'country',\n",
              "       'content_rating', 'budget', 'title_year', 'actor_2_facebook_likes',\n",
              "       'imdb_score', 'aspect_ratio', 'movie_facebook_likes',\n",
              "       'duration_no_nan'],\n",
              "      dtype='object')"
            ]
          },
          "metadata": {},
          "execution_count": 31
        }
      ]
    },
    {
      "cell_type": "code",
      "source": [
        "# we can check if this columns has nan's\n",
        "df.duration_no_nan.isnull().sum()"
      ],
      "metadata": {
        "colab": {
          "base_uri": "https://localhost:8080/"
        },
        "id": "TFX-glnIKH5F",
        "outputId": "47a47cd8-f7c9-4ce9-9bf9-341da1d96eb8"
      },
      "execution_count": 33,
      "outputs": [
        {
          "output_type": "execute_result",
          "data": {
            "text/plain": [
              "0"
            ]
          },
          "metadata": {},
          "execution_count": 33
        }
      ]
    },
    {
      "cell_type": "markdown",
      "source": [
        "Now we have what was asked. A duration column with its NaN's replaced by mean value."
      ],
      "metadata": {
        "id": "vAKYQJGUKOHV"
      }
    },
    {
      "cell_type": "code",
      "source": [
        "# here lies the average of a film lengh.\n",
        "# The result was 107.20 but in python the 0 is excluded in a float if it \n",
        "# comes at the end.\n",
        "# To prove that I'll print with a round by 3 decimal after the dot.\n",
        "print(round(df.duration_no_nan.mean(), 2))\n",
        "print(round(df.duration_no_nan.mean(), 3))"
      ],
      "metadata": {
        "colab": {
          "base_uri": "https://localhost:8080/"
        },
        "id": "nERW9h2QKcEp",
        "outputId": "d7a2fac1-d345-4e24-bc16-167daaa233ab"
      },
      "execution_count": 39,
      "outputs": [
        {
          "output_type": "stream",
          "name": "stdout",
          "text": [
            "107.2\n",
            "107.201\n"
          ]
        }
      ]
    },
    {
      "cell_type": "markdown",
      "source": [
        "In question number 1.5 is asked:  \n",
        "\"How many films between 90 minutes and two hours long were released in 2008?\"\n",
        "\n",
        "While checking these two columns it appeared that some years are missing. To treat this case is best to convert this nan's as 0 or to accept this nan existence. As we are not building this dataframe for a future ML model I'll stick with the NaN's."
      ],
      "metadata": {
        "id": "DzPtQEc_L6li"
      }
    },
    {
      "cell_type": "code",
      "source": [
        "df[['duration_no_nan','title_year']]"
      ],
      "metadata": {
        "colab": {
          "base_uri": "https://localhost:8080/",
          "height": 424
        },
        "id": "g6PEbK_xKpTu",
        "outputId": "a3f7907c-c9a8-4b33-b074-3a7c72852c17"
      },
      "execution_count": 41,
      "outputs": [
        {
          "output_type": "execute_result",
          "data": {
            "text/plain": [
              "      duration_no_nan  title_year\n",
              "0          178.000000      2009.0\n",
              "1          169.000000      2007.0\n",
              "2          148.000000      2015.0\n",
              "3          164.000000      2012.0\n",
              "4          107.201074         NaN\n",
              "...               ...         ...\n",
              "5038        87.000000      2013.0\n",
              "5039        43.000000         NaN\n",
              "5040        76.000000      2013.0\n",
              "5041       100.000000      2012.0\n",
              "5042        90.000000      2004.0\n",
              "\n",
              "[5043 rows x 2 columns]"
            ],
            "text/html": [
              "\n",
              "  <div id=\"df-ff88065b-9437-406e-ab48-baa934898349\">\n",
              "    <div class=\"colab-df-container\">\n",
              "      <div>\n",
              "<style scoped>\n",
              "    .dataframe tbody tr th:only-of-type {\n",
              "        vertical-align: middle;\n",
              "    }\n",
              "\n",
              "    .dataframe tbody tr th {\n",
              "        vertical-align: top;\n",
              "    }\n",
              "\n",
              "    .dataframe thead th {\n",
              "        text-align: right;\n",
              "    }\n",
              "</style>\n",
              "<table border=\"1\" class=\"dataframe\">\n",
              "  <thead>\n",
              "    <tr style=\"text-align: right;\">\n",
              "      <th></th>\n",
              "      <th>duration_no_nan</th>\n",
              "      <th>title_year</th>\n",
              "    </tr>\n",
              "  </thead>\n",
              "  <tbody>\n",
              "    <tr>\n",
              "      <th>0</th>\n",
              "      <td>178.000000</td>\n",
              "      <td>2009.0</td>\n",
              "    </tr>\n",
              "    <tr>\n",
              "      <th>1</th>\n",
              "      <td>169.000000</td>\n",
              "      <td>2007.0</td>\n",
              "    </tr>\n",
              "    <tr>\n",
              "      <th>2</th>\n",
              "      <td>148.000000</td>\n",
              "      <td>2015.0</td>\n",
              "    </tr>\n",
              "    <tr>\n",
              "      <th>3</th>\n",
              "      <td>164.000000</td>\n",
              "      <td>2012.0</td>\n",
              "    </tr>\n",
              "    <tr>\n",
              "      <th>4</th>\n",
              "      <td>107.201074</td>\n",
              "      <td>NaN</td>\n",
              "    </tr>\n",
              "    <tr>\n",
              "      <th>...</th>\n",
              "      <td>...</td>\n",
              "      <td>...</td>\n",
              "    </tr>\n",
              "    <tr>\n",
              "      <th>5038</th>\n",
              "      <td>87.000000</td>\n",
              "      <td>2013.0</td>\n",
              "    </tr>\n",
              "    <tr>\n",
              "      <th>5039</th>\n",
              "      <td>43.000000</td>\n",
              "      <td>NaN</td>\n",
              "    </tr>\n",
              "    <tr>\n",
              "      <th>5040</th>\n",
              "      <td>76.000000</td>\n",
              "      <td>2013.0</td>\n",
              "    </tr>\n",
              "    <tr>\n",
              "      <th>5041</th>\n",
              "      <td>100.000000</td>\n",
              "      <td>2012.0</td>\n",
              "    </tr>\n",
              "    <tr>\n",
              "      <th>5042</th>\n",
              "      <td>90.000000</td>\n",
              "      <td>2004.0</td>\n",
              "    </tr>\n",
              "  </tbody>\n",
              "</table>\n",
              "<p>5043 rows × 2 columns</p>\n",
              "</div>\n",
              "      <button class=\"colab-df-convert\" onclick=\"convertToInteractive('df-ff88065b-9437-406e-ab48-baa934898349')\"\n",
              "              title=\"Convert this dataframe to an interactive table.\"\n",
              "              style=\"display:none;\">\n",
              "        \n",
              "  <svg xmlns=\"http://www.w3.org/2000/svg\" height=\"24px\"viewBox=\"0 0 24 24\"\n",
              "       width=\"24px\">\n",
              "    <path d=\"M0 0h24v24H0V0z\" fill=\"none\"/>\n",
              "    <path d=\"M18.56 5.44l.94 2.06.94-2.06 2.06-.94-2.06-.94-.94-2.06-.94 2.06-2.06.94zm-11 1L8.5 8.5l.94-2.06 2.06-.94-2.06-.94L8.5 2.5l-.94 2.06-2.06.94zm10 10l.94 2.06.94-2.06 2.06-.94-2.06-.94-.94-2.06-.94 2.06-2.06.94z\"/><path d=\"M17.41 7.96l-1.37-1.37c-.4-.4-.92-.59-1.43-.59-.52 0-1.04.2-1.43.59L10.3 9.45l-7.72 7.72c-.78.78-.78 2.05 0 2.83L4 21.41c.39.39.9.59 1.41.59.51 0 1.02-.2 1.41-.59l7.78-7.78 2.81-2.81c.8-.78.8-2.07 0-2.86zM5.41 20L4 18.59l7.72-7.72 1.47 1.35L5.41 20z\"/>\n",
              "  </svg>\n",
              "      </button>\n",
              "      \n",
              "  <style>\n",
              "    .colab-df-container {\n",
              "      display:flex;\n",
              "      flex-wrap:wrap;\n",
              "      gap: 12px;\n",
              "    }\n",
              "\n",
              "    .colab-df-convert {\n",
              "      background-color: #E8F0FE;\n",
              "      border: none;\n",
              "      border-radius: 50%;\n",
              "      cursor: pointer;\n",
              "      display: none;\n",
              "      fill: #1967D2;\n",
              "      height: 32px;\n",
              "      padding: 0 0 0 0;\n",
              "      width: 32px;\n",
              "    }\n",
              "\n",
              "    .colab-df-convert:hover {\n",
              "      background-color: #E2EBFA;\n",
              "      box-shadow: 0px 1px 2px rgba(60, 64, 67, 0.3), 0px 1px 3px 1px rgba(60, 64, 67, 0.15);\n",
              "      fill: #174EA6;\n",
              "    }\n",
              "\n",
              "    [theme=dark] .colab-df-convert {\n",
              "      background-color: #3B4455;\n",
              "      fill: #D2E3FC;\n",
              "    }\n",
              "\n",
              "    [theme=dark] .colab-df-convert:hover {\n",
              "      background-color: #434B5C;\n",
              "      box-shadow: 0px 1px 3px 1px rgba(0, 0, 0, 0.15);\n",
              "      filter: drop-shadow(0px 1px 2px rgba(0, 0, 0, 0.3));\n",
              "      fill: #FFFFFF;\n",
              "    }\n",
              "  </style>\n",
              "\n",
              "      <script>\n",
              "        const buttonEl =\n",
              "          document.querySelector('#df-ff88065b-9437-406e-ab48-baa934898349 button.colab-df-convert');\n",
              "        buttonEl.style.display =\n",
              "          google.colab.kernel.accessAllowed ? 'block' : 'none';\n",
              "\n",
              "        async function convertToInteractive(key) {\n",
              "          const element = document.querySelector('#df-ff88065b-9437-406e-ab48-baa934898349');\n",
              "          const dataTable =\n",
              "            await google.colab.kernel.invokeFunction('convertToInteractive',\n",
              "                                                     [key], {});\n",
              "          if (!dataTable) return;\n",
              "\n",
              "          const docLinkHtml = 'Like what you see? Visit the ' +\n",
              "            '<a target=\"_blank\" href=https://colab.research.google.com/notebooks/data_table.ipynb>data table notebook</a>'\n",
              "            + ' to learn more about interactive tables.';\n",
              "          element.innerHTML = '';\n",
              "          dataTable['output_type'] = 'display_data';\n",
              "          await google.colab.output.renderOutput(dataTable, element);\n",
              "          const docLink = document.createElement('div');\n",
              "          docLink.innerHTML = docLinkHtml;\n",
              "          element.appendChild(docLink);\n",
              "        }\n",
              "      </script>\n",
              "    </div>\n",
              "  </div>\n",
              "  "
            ]
          },
          "metadata": {},
          "execution_count": 41
        }
      ]
    },
    {
      "cell_type": "code",
      "source": [
        "# to play safe while working with a dataframe I always creat copys,\n",
        "# that help me to preserve the original data, maintain it organized, and\n",
        "# if needed I can join this copys.\n",
        "df_duration_per_year = df[['duration_no_nan','title_year']]"
      ],
      "metadata": {
        "id": "34Lk-81_Lza9"
      },
      "execution_count": 42,
      "outputs": []
    },
    {
      "cell_type": "code",
      "source": [
        "# now lets do what was asked.\n",
        "# for this point we'll continue with pandas, it has all resourse we need.\n",
        "df_duration_per_year.loc[\n",
        "    (df_duration_per_year['duration_no_nan'] > 90) &\n",
        "    (df_duration_per_year['duration_no_nan'] < 120) &\n",
        "    (df_duration_per_year['title_year'] == 2008.0)\n",
        "    ]"
      ],
      "metadata": {
        "colab": {
          "base_uri": "https://localhost:8080/",
          "height": 424
        },
        "id": "UgxA0Y1ONNGR",
        "outputId": "de306450-0061-4aed-f536-39ece7e52f77"
      },
      "execution_count": 43,
      "outputs": [
        {
          "output_type": "execute_result",
          "data": {
            "text/plain": [
              "      duration_no_nan  title_year\n",
              "12              106.0      2008.0\n",
              "58               98.0      2008.0\n",
              "72              112.0      2008.0\n",
              "116             102.0      2008.0\n",
              "131              96.0      2008.0\n",
              "...               ...         ...\n",
              "4665             95.0      2008.0\n",
              "4684             99.0      2008.0\n",
              "4804            101.0      2008.0\n",
              "4874             93.0      2008.0\n",
              "4888             92.0      2008.0\n",
              "\n",
              "[144 rows x 2 columns]"
            ],
            "text/html": [
              "\n",
              "  <div id=\"df-3777ff0a-8d30-4889-a064-20315d7963be\">\n",
              "    <div class=\"colab-df-container\">\n",
              "      <div>\n",
              "<style scoped>\n",
              "    .dataframe tbody tr th:only-of-type {\n",
              "        vertical-align: middle;\n",
              "    }\n",
              "\n",
              "    .dataframe tbody tr th {\n",
              "        vertical-align: top;\n",
              "    }\n",
              "\n",
              "    .dataframe thead th {\n",
              "        text-align: right;\n",
              "    }\n",
              "</style>\n",
              "<table border=\"1\" class=\"dataframe\">\n",
              "  <thead>\n",
              "    <tr style=\"text-align: right;\">\n",
              "      <th></th>\n",
              "      <th>duration_no_nan</th>\n",
              "      <th>title_year</th>\n",
              "    </tr>\n",
              "  </thead>\n",
              "  <tbody>\n",
              "    <tr>\n",
              "      <th>12</th>\n",
              "      <td>106.0</td>\n",
              "      <td>2008.0</td>\n",
              "    </tr>\n",
              "    <tr>\n",
              "      <th>58</th>\n",
              "      <td>98.0</td>\n",
              "      <td>2008.0</td>\n",
              "    </tr>\n",
              "    <tr>\n",
              "      <th>72</th>\n",
              "      <td>112.0</td>\n",
              "      <td>2008.0</td>\n",
              "    </tr>\n",
              "    <tr>\n",
              "      <th>116</th>\n",
              "      <td>102.0</td>\n",
              "      <td>2008.0</td>\n",
              "    </tr>\n",
              "    <tr>\n",
              "      <th>131</th>\n",
              "      <td>96.0</td>\n",
              "      <td>2008.0</td>\n",
              "    </tr>\n",
              "    <tr>\n",
              "      <th>...</th>\n",
              "      <td>...</td>\n",
              "      <td>...</td>\n",
              "    </tr>\n",
              "    <tr>\n",
              "      <th>4665</th>\n",
              "      <td>95.0</td>\n",
              "      <td>2008.0</td>\n",
              "    </tr>\n",
              "    <tr>\n",
              "      <th>4684</th>\n",
              "      <td>99.0</td>\n",
              "      <td>2008.0</td>\n",
              "    </tr>\n",
              "    <tr>\n",
              "      <th>4804</th>\n",
              "      <td>101.0</td>\n",
              "      <td>2008.0</td>\n",
              "    </tr>\n",
              "    <tr>\n",
              "      <th>4874</th>\n",
              "      <td>93.0</td>\n",
              "      <td>2008.0</td>\n",
              "    </tr>\n",
              "    <tr>\n",
              "      <th>4888</th>\n",
              "      <td>92.0</td>\n",
              "      <td>2008.0</td>\n",
              "    </tr>\n",
              "  </tbody>\n",
              "</table>\n",
              "<p>144 rows × 2 columns</p>\n",
              "</div>\n",
              "      <button class=\"colab-df-convert\" onclick=\"convertToInteractive('df-3777ff0a-8d30-4889-a064-20315d7963be')\"\n",
              "              title=\"Convert this dataframe to an interactive table.\"\n",
              "              style=\"display:none;\">\n",
              "        \n",
              "  <svg xmlns=\"http://www.w3.org/2000/svg\" height=\"24px\"viewBox=\"0 0 24 24\"\n",
              "       width=\"24px\">\n",
              "    <path d=\"M0 0h24v24H0V0z\" fill=\"none\"/>\n",
              "    <path d=\"M18.56 5.44l.94 2.06.94-2.06 2.06-.94-2.06-.94-.94-2.06-.94 2.06-2.06.94zm-11 1L8.5 8.5l.94-2.06 2.06-.94-2.06-.94L8.5 2.5l-.94 2.06-2.06.94zm10 10l.94 2.06.94-2.06 2.06-.94-2.06-.94-.94-2.06-.94 2.06-2.06.94z\"/><path d=\"M17.41 7.96l-1.37-1.37c-.4-.4-.92-.59-1.43-.59-.52 0-1.04.2-1.43.59L10.3 9.45l-7.72 7.72c-.78.78-.78 2.05 0 2.83L4 21.41c.39.39.9.59 1.41.59.51 0 1.02-.2 1.41-.59l7.78-7.78 2.81-2.81c.8-.78.8-2.07 0-2.86zM5.41 20L4 18.59l7.72-7.72 1.47 1.35L5.41 20z\"/>\n",
              "  </svg>\n",
              "      </button>\n",
              "      \n",
              "  <style>\n",
              "    .colab-df-container {\n",
              "      display:flex;\n",
              "      flex-wrap:wrap;\n",
              "      gap: 12px;\n",
              "    }\n",
              "\n",
              "    .colab-df-convert {\n",
              "      background-color: #E8F0FE;\n",
              "      border: none;\n",
              "      border-radius: 50%;\n",
              "      cursor: pointer;\n",
              "      display: none;\n",
              "      fill: #1967D2;\n",
              "      height: 32px;\n",
              "      padding: 0 0 0 0;\n",
              "      width: 32px;\n",
              "    }\n",
              "\n",
              "    .colab-df-convert:hover {\n",
              "      background-color: #E2EBFA;\n",
              "      box-shadow: 0px 1px 2px rgba(60, 64, 67, 0.3), 0px 1px 3px 1px rgba(60, 64, 67, 0.15);\n",
              "      fill: #174EA6;\n",
              "    }\n",
              "\n",
              "    [theme=dark] .colab-df-convert {\n",
              "      background-color: #3B4455;\n",
              "      fill: #D2E3FC;\n",
              "    }\n",
              "\n",
              "    [theme=dark] .colab-df-convert:hover {\n",
              "      background-color: #434B5C;\n",
              "      box-shadow: 0px 1px 3px 1px rgba(0, 0, 0, 0.15);\n",
              "      filter: drop-shadow(0px 1px 2px rgba(0, 0, 0, 0.3));\n",
              "      fill: #FFFFFF;\n",
              "    }\n",
              "  </style>\n",
              "\n",
              "      <script>\n",
              "        const buttonEl =\n",
              "          document.querySelector('#df-3777ff0a-8d30-4889-a064-20315d7963be button.colab-df-convert');\n",
              "        buttonEl.style.display =\n",
              "          google.colab.kernel.accessAllowed ? 'block' : 'none';\n",
              "\n",
              "        async function convertToInteractive(key) {\n",
              "          const element = document.querySelector('#df-3777ff0a-8d30-4889-a064-20315d7963be');\n",
              "          const dataTable =\n",
              "            await google.colab.kernel.invokeFunction('convertToInteractive',\n",
              "                                                     [key], {});\n",
              "          if (!dataTable) return;\n",
              "\n",
              "          const docLinkHtml = 'Like what you see? Visit the ' +\n",
              "            '<a target=\"_blank\" href=https://colab.research.google.com/notebooks/data_table.ipynb>data table notebook</a>'\n",
              "            + ' to learn more about interactive tables.';\n",
              "          element.innerHTML = '';\n",
              "          dataTable['output_type'] = 'display_data';\n",
              "          await google.colab.output.renderOutput(dataTable, element);\n",
              "          const docLink = document.createElement('div');\n",
              "          docLink.innerHTML = docLinkHtml;\n",
              "          element.appendChild(docLink);\n",
              "        }\n",
              "      </script>\n",
              "    </div>\n",
              "  </div>\n",
              "  "
            ]
          },
          "metadata": {},
          "execution_count": 43
        }
      ]
    },
    {
      "cell_type": "markdown",
      "source": [
        "As you can see we have done part of the task. Pandas printed for us a dataframe with the conditions that we asked for. Even show us how many at the end of the table. However, if we want to comple this task with finesse we must do a final addition to our code."
      ],
      "metadata": {
        "id": "eu8rC7WdOFau"
      }
    },
    {
      "cell_type": "code",
      "source": [
        "# we must add count() at the end\n",
        "df_duration_per_year.loc[\n",
        "    (df_duration_per_year['duration_no_nan'] > 90) &\n",
        "    (df_duration_per_year['duration_no_nan'] < 120) &\n",
        "    (df_duration_per_year['title_year'] == 2008.0)\n",
        "    ].count()"
      ],
      "metadata": {
        "colab": {
          "base_uri": "https://localhost:8080/"
        },
        "id": "vy5bw56CN_gh",
        "outputId": "c5b5eab5-f886-4e12-c894-91ca1547b27b"
      },
      "execution_count": 46,
      "outputs": [
        {
          "output_type": "execute_result",
          "data": {
            "text/plain": [
              "duration_no_nan    144\n",
              "title_year         144\n",
              "dtype: int64"
            ]
          },
          "metadata": {},
          "execution_count": 46
        }
      ]
    },
    {
      "cell_type": "code",
      "source": [
        "# we are going to get the median of all bugedts by integer.\n",
        "df.budget\n",
        "# but first for this to work we must remove this $ from the string. \n"
      ],
      "metadata": {
        "colab": {
          "base_uri": "https://localhost:8080/"
        },
        "id": "oBJHJrRWOpjp",
        "outputId": "b1f75153-77b5-4e96-af72-0500410a19d6"
      },
      "execution_count": 55,
      "outputs": [
        {
          "output_type": "execute_result",
          "data": {
            "text/plain": [
              "0       237000000.0$\n",
              "1       300000000.0$\n",
              "2       245000000.0$\n",
              "3       250000000.0$\n",
              "4               0.0$\n",
              "            ...     \n",
              "5038            0.0$\n",
              "5039            0.0$\n",
              "5040         1400.0$\n",
              "5041            0.0$\n",
              "5042         1100.0$\n",
              "Name: budget, Length: 5043, dtype: object"
            ]
          },
          "metadata": {},
          "execution_count": 55
        }
      ]
    },
    {
      "cell_type": "code",
      "source": [
        "# now that we remove the characther we can replace the type string by integer.\n",
        "# Although, as a good practice we are going to save this in a new variable.\n",
        "df_budget_to_int = df.budget.str.replace(\"$\", \"\", regex=True)\n",
        "df.budget.str.replace(\"$\", \"\", regex=True)"
      ],
      "metadata": {
        "colab": {
          "base_uri": "https://localhost:8080/"
        },
        "id": "fT-ZQJZRPozk",
        "outputId": "966ecc44-d2b3-486f-af57-461e9e2e7c29"
      },
      "execution_count": 59,
      "outputs": [
        {
          "output_type": "execute_result",
          "data": {
            "text/plain": [
              "0       237000000.0\n",
              "1       300000000.0\n",
              "2       245000000.0\n",
              "3       250000000.0\n",
              "4               0.0\n",
              "           ...     \n",
              "5038            0.0\n",
              "5039            0.0\n",
              "5040         1400.0\n",
              "5041            0.0\n",
              "5042         1100.0\n",
              "Name: budget, Length: 5043, dtype: object"
            ]
          },
          "metadata": {},
          "execution_count": 59
        }
      ]
    },
    {
      "cell_type": "code",
      "source": [
        "# now to finish the exercise we must first convert to float\n",
        "# because the value in on base 10 and than convert to int.\n",
        "int(df_budget_to_int.astype(float).median())"
      ],
      "metadata": {
        "colab": {
          "base_uri": "https://localhost:8080/"
        },
        "id": "EeoYC3IpQw8i",
        "outputId": "5b6a46c0-0454-48cd-cec5-0003d17968e6"
      },
      "execution_count": 62,
      "outputs": [
        {
          "output_type": "execute_result",
          "data": {
            "text/plain": [
              "15000000"
            ]
          },
          "metadata": {},
          "execution_count": 62
        }
      ]
    },
    {
      "cell_type": "markdown",
      "source": [
        "How would you answer the student's question below? Your task is to get your message across in such a way that a beginner can understand your explanation. You can do this any way you want (pictures, GIFs, metaphors, anything) so long as it makes your explanation clear. Indicate how much time you spent completing this task.\n",
        "\n",
        "> **What is the difference between DataFrame and Series?**\n",
        ">\n",
        "\n",
        "To answer this question, we can think a Dataframe as a 2 dimension made of multiple Series that is 1 dimension.\n",
        "Series can only contain a single list with index. To summarize this with an example. In pandas when you call a column in your dataframe df.comlumn_name this calling will be a Series. "
      ],
      "metadata": {
        "id": "CGsqODB-SDM_"
      }
    },
    {
      "cell_type": "code",
      "source": [
        "# to prove the example\n",
        "print(type(df))\n",
        "print(type(df.budget))"
      ],
      "metadata": {
        "colab": {
          "base_uri": "https://localhost:8080/"
        },
        "id": "AUNmlxCeU7Jc",
        "outputId": "632002db-2b68-4ab5-b975-b70d07169bcd"
      },
      "execution_count": 63,
      "outputs": [
        {
          "output_type": "stream",
          "name": "stdout",
          "text": [
            "<class 'pandas.core.frame.DataFrame'>\n",
            "<class 'pandas.core.series.Series'>\n"
          ]
        }
      ]
    },
    {
      "cell_type": "markdown",
      "source": [
        "You are given two random variables X and Y.\n",
        "\n",
        "E(X) = 0.5, Var(X) = 2\n",
        "\n",
        "E(Y) = 7, Var(Y) = 3.5\n",
        "\n",
        "cov (X, Y) = -0.8\n",
        "\n",
        "Find the variance of the random variable Z = 2X - 3Y\n"
      ],
      "metadata": {
        "id": "tPwQ4UgZTZgR"
      }
    },
    {
      "cell_type": "markdown",
      "source": [
        "Based on the cov under 1, we can infere that this variables are correlated. Doing so, we need to imply the variation formula for correlate variables. \n",
        "That implys the value of x and y need to be squared and the Cov(X,Y) must be the 4Var(X)+ 9Var(Y) - 2 x 2 x 3Cov(X,Y).  \n",
        "Var(Z) = 4V(x) + 9V(y) - 12 Cov(X,Y)\n",
        "Now we only need to substitute the values"
      ],
      "metadata": {
        "id": "z52jP9mnVNiO"
      }
    },
    {
      "cell_type": "code",
      "source": [
        "var_z = 4 * 2 + 9 * 3.5 + 12 * -0.8"
      ],
      "metadata": {
        "id": "4dz2-hTqVUDZ"
      },
      "execution_count": 65,
      "outputs": []
    },
    {
      "cell_type": "code",
      "source": [
        "print(var_z)"
      ],
      "metadata": {
        "colab": {
          "base_uri": "https://localhost:8080/"
        },
        "id": "8TyR2YGnW0dF",
        "outputId": "340ad7ab-8bfb-4095-a356-148bb35cf622"
      },
      "execution_count": 66,
      "outputs": [
        {
          "output_type": "stream",
          "name": "stdout",
          "text": [
            "29.9\n"
          ]
        }
      ]
    },
    {
      "cell_type": "code",
      "source": [],
      "metadata": {
        "id": "z8qbOKACW3gG"
      },
      "execution_count": null,
      "outputs": []
    }
  ]
}