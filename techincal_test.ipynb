{
  "nbformat": 4,
  "nbformat_minor": 0,
  "metadata": {
    "colab": {
      "provenance": [],
      "mount_file_id": "11mXRgfsv-4WxzzpmhJjWyeQsM8UyvQwk",
      "authorship_tag": "ABX9TyPVeK5BV/COswhkvXhv+10G",
      "include_colab_link": true
    },
    "kernelspec": {
      "name": "python3",
      "display_name": "Python 3"
    },
    "language_info": {
      "name": "python"
    }
  },
  "cells": [
    {
      "cell_type": "markdown",
      "metadata": {
        "id": "view-in-github",
        "colab_type": "text"
      },
      "source": [
        "<a href=\"https://colab.research.google.com/github/FilipeSacchetto/Notebooks/blob/main/techincal_test.ipynb\" target=\"_parent\"><img src=\"https://colab.research.google.com/assets/colab-badge.svg\" alt=\"Open In Colab\"/></a>"
      ]
    },
    {
      "cell_type": "code",
      "execution_count": 2,
      "metadata": {
        "id": "LEvMEdC0wUJi"
      },
      "outputs": [],
      "source": [
        "# Python packages \n",
        "import pandas as pd\n",
        "from google.colab import drive"
      ]
    },
    {
      "cell_type": "markdown",
      "source": [
        "**Task 1. Working with data**\n",
        "\n",
        "[movie_metadata.csv](https://s3-us-west-2.amazonaws.com/secure.notion-static.com/fb728421-b488-45ef-9d84-61f73a1f57e5/movie_metadata.csv)\n",
        "\n",
        "To complete this task, use the data set in the attached file. Indicate the answer to each of the following steps and time to complete the entire task.\n",
        "\n",
        "1.1. Download the data set `movie_metadata.csv`, which contains data about films from IMDb (Internet Movie Database).\n",
        "\n",
        "1.2. The `duration` column contains data on the film length. How many missing values are there in this column?\n",
        "\n",
        "1.3. Replace the missing values in the `duration` column with the median value for this column.\n",
        "\n",
        "1.4. What is the average film length? Give the answer as a floating-point figure rounded to two decimal places.\n",
        "\n",
        "1.5. How many films between 90 minutes and two hours long were released in 2008?\n",
        "\n",
        "1.6. The `budget` column contains the film's budget. What is the median budget for all the films listed? Give the answer as an integer."
      ],
      "metadata": {
        "id": "J4BzHKDuwm9K"
      }
    },
    {
      "cell_type": "code",
      "source": [
        "drive.mount('/content/drive')\n",
        "df = pd.read_csv('/content/drive/MyDrive/movie_metadata.csv')"
      ],
      "metadata": {
        "colab": {
          "base_uri": "https://localhost:8080/"
        },
        "id": "BXvwYPgWxrnU",
        "outputId": "32bd9770-b1eb-4848-c117-51d1519449a6"
      },
      "execution_count": 4,
      "outputs": [
        {
          "output_type": "stream",
          "name": "stdout",
          "text": [
            "Drive already mounted at /content/drive; to attempt to forcibly remount, call drive.mount(\"/content/drive\", force_remount=True).\n"
          ]
        }
      ]
    },
    {
      "cell_type": "markdown",
      "source": [
        "Here in the question 1.2 is asked to find how many missing values are in the column duration.\n",
        "\n",
        "To do so, we are going to use pandas package for this. In pure python it's possible to do by dictionary, although that is a big work around. Therefore a simpler solution with pandas is better for a day-a-day working basis."
      ],
      "metadata": {
        "id": "eM3ELFPuyifd"
      }
    },
    {
      "cell_type": "code",
      "source": [
        "# pd.DataFrame.columns can show us all the columns names\n",
        "# and here qe can see the column needed for the question (duration)\n",
        "df.columns"
      ],
      "metadata": {
        "colab": {
          "base_uri": "https://localhost:8080/"
        },
        "id": "PhYw4HulyWFp",
        "outputId": "a9e031ac-4b62-44cc-8aec-a3b53a2c0bff"
      },
      "execution_count": 8,
      "outputs": [
        {
          "output_type": "execute_result",
          "data": {
            "text/plain": [
              "Index(['color', 'director_name', 'num_critic_for_reviews', 'duration',\n",
              "       'director_facebook_likes', 'actor_3_facebook_likes', 'actor_2_name',\n",
              "       'actor_1_facebook_likes', 'gross', 'genres', 'actor_1_name',\n",
              "       'movie_title', 'num_voted_users', 'cast_total_facebook_likes',\n",
              "       'actor_3_name', 'facenumber_in_poster', 'plot_keywords',\n",
              "       'movie_imdb_link', 'num_user_for_reviews', 'language', 'country',\n",
              "       'content_rating', 'budget', 'title_year', 'actor_2_facebook_likes',\n",
              "       'imdb_score', 'aspect_ratio', 'movie_facebook_likes'],\n",
              "      dtype='object')"
            ]
          },
          "metadata": {},
          "execution_count": 8
        }
      ]
    },
    {
      "cell_type": "code",
      "source": [
        "# in pandas there a many ways to solve the same problema. \n",
        "# you can approach this as dots, like I did bellow or\n",
        "# you can go by list - df['duration'].isnull().sum()\n",
        "df.duration.isnull().sum()"
      ],
      "metadata": {
        "colab": {
          "base_uri": "https://localhost:8080/"
        },
        "id": "zJ3eZE2iyaTF",
        "outputId": "ace029ab-c656-47cf-ea51-6ce8c72475b1"
      },
      "execution_count": 9,
      "outputs": [
        {
          "output_type": "execute_result",
          "data": {
            "text/plain": [
              "15"
            ]
          },
          "metadata": {},
          "execution_count": 9
        }
      ]
    },
    {
      "cell_type": "code",
      "source": [
        "# to double check if we are right we can use pd.DataFrame.info()\n",
        "# this can guive us a bunch of data, including number of non-nulls.\n",
        "df.info()\n",
        "# doing the math: \n",
        "# we have 5043 total registers in the hole table\n",
        "# and 5028 total duration \n",
        "print(f'Number of nulls in description {5043 - 5028}')"
      ],
      "metadata": {
        "colab": {
          "base_uri": "https://localhost:8080/"
        },
        "id": "kv2pWQmzzyeA",
        "outputId": "e8ffb19f-0613-4ea7-92c2-c1d899e42345"
      },
      "execution_count": 24,
      "outputs": [
        {
          "output_type": "stream",
          "name": "stdout",
          "text": [
            "<class 'pandas.core.frame.DataFrame'>\n",
            "RangeIndex: 5043 entries, 0 to 5042\n",
            "Data columns (total 28 columns):\n",
            " #   Column                     Non-Null Count  Dtype  \n",
            "---  ------                     --------------  -----  \n",
            " 0   color                      5024 non-null   object \n",
            " 1   director_name              4939 non-null   object \n",
            " 2   num_critic_for_reviews     4993 non-null   float64\n",
            " 3   duration                   5028 non-null   float64\n",
            " 4   director_facebook_likes    4939 non-null   float64\n",
            " 5   actor_3_facebook_likes     5020 non-null   float64\n",
            " 6   actor_2_name               5030 non-null   object \n",
            " 7   actor_1_facebook_likes     5036 non-null   float64\n",
            " 8   gross                      4159 non-null   float64\n",
            " 9   genres                     5043 non-null   object \n",
            " 10  actor_1_name               5036 non-null   object \n",
            " 11  movie_title                5043 non-null   object \n",
            " 12  num_voted_users            5043 non-null   int64  \n",
            " 13  cast_total_facebook_likes  5043 non-null   int64  \n",
            " 14  actor_3_name               5020 non-null   object \n",
            " 15  facenumber_in_poster       5030 non-null   float64\n",
            " 16  plot_keywords              4890 non-null   object \n",
            " 17  movie_imdb_link            5043 non-null   object \n",
            " 18  num_user_for_reviews       5022 non-null   float64\n",
            " 19  language                   5031 non-null   object \n",
            " 20  country                    5038 non-null   object \n",
            " 21  content_rating             4740 non-null   object \n",
            " 22  budget                     5043 non-null   object \n",
            " 23  title_year                 4935 non-null   float64\n",
            " 24  actor_2_facebook_likes     5030 non-null   float64\n",
            " 25  imdb_score                 5043 non-null   float64\n",
            " 26  aspect_ratio               4714 non-null   float64\n",
            " 27  movie_facebook_likes       5043 non-null   int64  \n",
            "dtypes: float64(12), int64(3), object(13)\n",
            "memory usage: 1.1+ MB\n",
            "Number of nulls in description 15\n"
          ]
        }
      ]
    },
    {
      "cell_type": "markdown",
      "source": [
        "So, we prove that the number of nulls were correct"
      ],
      "metadata": {
        "id": "GEI0Zyku0neV"
      }
    },
    {
      "cell_type": "markdown",
      "source": [
        "Now we're gonna replace the nulls for this column mean value. To do so, we need to use another pandas function. This time assiciate .mean() at the end of df.column_name alongside the function fillna()."
      ],
      "metadata": {
        "id": "PfV2IryL24Wp"
      }
    },
    {
      "cell_type": "code",
      "source": [
        "# here is set the column that we need thoses NaN to be filled and inside\n",
        "# the function expects some value.\n",
        "df.duration.fillna(df.duration.mean())"
      ],
      "metadata": {
        "colab": {
          "base_uri": "https://localhost:8080/"
        },
        "id": "BmBB48l3IM7E",
        "outputId": "6f3acd92-1461-4cc5-b1f5-a17856f903e8"
      },
      "execution_count": 25,
      "outputs": [
        {
          "output_type": "execute_result",
          "data": {
            "text/plain": [
              "0       178.000000\n",
              "1       169.000000\n",
              "2       148.000000\n",
              "3       164.000000\n",
              "4       107.201074\n",
              "           ...    \n",
              "5038     87.000000\n",
              "5039     43.000000\n",
              "5040     76.000000\n",
              "5041    100.000000\n",
              "5042     90.000000\n",
              "Name: duration, Length: 5043, dtype: float64"
            ]
          },
          "metadata": {},
          "execution_count": 25
        }
      ]
    },
    {
      "cell_type": "markdown",
      "source": [
        "Done, now you can see that this column has its nan filled with mean() value. This approach is sometimes not the best because without plotting a boxplot - or doing something that shows outlyers - we can't be sure how many outlyers has in this dataset. That said, we can't be sure if this was the best approach. But, I'll attain to what is asked.\n",
        "Now I can save this duration without NaN in other column - I highly recommend - or overwrite the column with the values."
      ],
      "metadata": {
        "id": "2Tr2YivBIkg-"
      }
    },
    {
      "cell_type": "code",
      "source": [
        "# to be more clinical with an analysis I'll be saving this duration\n",
        "# without NaN's in a new collumn called duration_no_nan\n",
        "df['duration_no_nan'] = df.duration.fillna(df.duration.mean())"
      ],
      "metadata": {
        "id": "MAyYBefSJfvy"
      },
      "execution_count": 30,
      "outputs": []
    },
    {
      "cell_type": "code",
      "source": [
        "# now we can see that I added a new column to the dataframe\n",
        "df.columns"
      ],
      "metadata": {
        "colab": {
          "base_uri": "https://localhost:8080/"
        },
        "id": "mQLM1uY5JxcX",
        "outputId": "728e71ed-1a12-4247-d54a-e45207dbdeb9"
      },
      "execution_count": 31,
      "outputs": [
        {
          "output_type": "execute_result",
          "data": {
            "text/plain": [
              "Index(['color', 'director_name', 'num_critic_for_reviews', 'duration',\n",
              "       'director_facebook_likes', 'actor_3_facebook_likes', 'actor_2_name',\n",
              "       'actor_1_facebook_likes', 'gross', 'genres', 'actor_1_name',\n",
              "       'movie_title', 'num_voted_users', 'cast_total_facebook_likes',\n",
              "       'actor_3_name', 'facenumber_in_poster', 'plot_keywords',\n",
              "       'movie_imdb_link', 'num_user_for_reviews', 'language', 'country',\n",
              "       'content_rating', 'budget', 'title_year', 'actor_2_facebook_likes',\n",
              "       'imdb_score', 'aspect_ratio', 'movie_facebook_likes',\n",
              "       'duration_no_nan'],\n",
              "      dtype='object')"
            ]
          },
          "metadata": {},
          "execution_count": 31
        }
      ]
    },
    {
      "cell_type": "code",
      "source": [
        "# we can check if this columns has nan's\n",
        "df.duration_no_nan.isnull().sum()"
      ],
      "metadata": {
        "colab": {
          "base_uri": "https://localhost:8080/"
        },
        "id": "TFX-glnIKH5F",
        "outputId": "47a47cd8-f7c9-4ce9-9bf9-341da1d96eb8"
      },
      "execution_count": 33,
      "outputs": [
        {
          "output_type": "execute_result",
          "data": {
            "text/plain": [
              "0"
            ]
          },
          "metadata": {},
          "execution_count": 33
        }
      ]
    },
    {
      "cell_type": "markdown",
      "source": [
        "Now we have what was asked. A duration column with its NaN's replaced by mean value."
      ],
      "metadata": {
        "id": "vAKYQJGUKOHV"
      }
    },
    {
      "cell_type": "code",
      "source": [
        "# here lies the average of a film lengh.\n",
        "# The result was 107.20 but in python the 0 is excluded in a float if it \n",
        "# comes at the end.\n",
        "# To prove that I'll print with a round by 3 decimal after the dot.\n",
        "print(round(df.duration_no_nan.mean(), 2))\n",
        "print(round(df.duration_no_nan.mean(), 3))"
      ],
      "metadata": {
        "colab": {
          "base_uri": "https://localhost:8080/"
        },
        "id": "nERW9h2QKcEp",
        "outputId": "d7a2fac1-d345-4e24-bc16-167daaa233ab"
      },
      "execution_count": 39,
      "outputs": [
        {
          "output_type": "stream",
          "name": "stdout",
          "text": [
            "107.2\n",
            "107.201\n"
          ]
        }
      ]
    },
    {
      "cell_type": "markdown",
      "source": [
        "In question number 1.5 is asked:  \n",
        "\"How many films between 90 minutes and two hours long were released in 2008?\"\n",
        "\n",
        "While checking these two columns it appeared that some years are missing. To treat this case is best to convert this nan's as 0 or to accept this nan existence. As we are not building this dataframe for a future ML model I'll stick with the NaN's."
      ],
      "metadata": {
        "id": "DzPtQEc_L6li"
      }
    },
    {
      "cell_type": "code",
      "source": [
        "df[['duration_no_nan','title_year']]"
      ],
      "metadata": {
        "colab": {
          "base_uri": "https://localhost:8080/",
          "height": 424
        },
        "id": "g6PEbK_xKpTu",
        "outputId": "a3f7907c-c9a8-4b33-b074-3a7c72852c17"
      },
      "execution_count": 41,
      "outputs": [
        {
          "output_type": "execute_result",
          "data": {
            "text/plain": [
              "      duration_no_nan  title_year\n",
              "0          178.000000      2009.0\n",
              "1          169.000000      2007.0\n",
              "2          148.000000      2015.0\n",
              "3          164.000000      2012.0\n",
              "4          107.201074         NaN\n",
              "...               ...         ...\n",
              "5038        87.000000      2013.0\n",
              "5039        43.000000         NaN\n",
              "5040        76.000000      2013.0\n",
              "5041       100.000000      2012.0\n",
              "5042        90.000000      2004.0\n",
              "\n",
              "[5043 rows x 2 columns]"
            ],
            "text/html": [
              "\n",
              "  <div id=\"df-ff88065b-9437-406e-ab48-baa934898349\">\n",
              "    <div class=\"colab-df-container\">\n",
              "      <div>\n",
              "<style scoped>\n",
              "    .dataframe tbody tr th:only-of-type {\n",
              "        vertical-align: middle;\n",
              "    }\n",
              "\n",
              "    .dataframe tbody tr th {\n",
              "        vertical-align: top;\n",
              "    }\n",
              "\n",
              "    .dataframe thead th {\n",
              "        text-align: right;\n",
              "    }\n",
              "</style>\n",
              "<table border=\"1\" class=\"dataframe\">\n",
              "  <thead>\n",
              "    <tr style=\"text-align: right;\">\n",
              "      <th></th>\n",
              "      <th>duration_no_nan</th>\n",
              "      <th>title_year</th>\n",
              "    </tr>\n",
              "  </thead>\n",
              "  <tbody>\n",
              "    <tr>\n",
              "      <th>0</th>\n",
              "      <td>178.000000</td>\n",
              "      <td>2009.0</td>\n",
              "    </tr>\n",
              "    <tr>\n",
              "      <th>1</th>\n",
              "      <td>169.000000</td>\n",
              "      <td>2007.0</td>\n",
              "    </tr>\n",
              "    <tr>\n",
              "      <th>2</th>\n",
              "      <td>148.000000</td>\n",
              "      <td>2015.0</td>\n",
              "    </tr>\n",
              "    <tr>\n",
              "      <th>3</th>\n",
              "      <td>164.000000</td>\n",
              "      <td>2012.0</td>\n",
              "    </tr>\n",
              "    <tr>\n",
              "      <th>4</th>\n",
              "      <td>107.201074</td>\n",
              "      <td>NaN</td>\n",
              "    </tr>\n",
              "    <tr>\n",
              "      <th>...</th>\n",
              "      <td>...</td>\n",
              "      <td>...</td>\n",
              "    </tr>\n",
              "    <tr>\n",
              "      <th>5038</th>\n",
              "      <td>87.000000</td>\n",
              "      <td>2013.0</td>\n",
              "    </tr>\n",
              "    <tr>\n",
              "      <th>5039</th>\n",
              "      <td>43.000000</td>\n",
              "      <td>NaN</td>\n",
              "    </tr>\n",
              "    <tr>\n",
              "      <th>5040</th>\n",
              "      <td>76.000000</td>\n",
              "      <td>2013.0</td>\n",
              "    </tr>\n",
              "    <tr>\n",
              "      <th>5041</th>\n",
              "      <td>100.000000</td>\n",
              "      <td>2012.0</td>\n",
              "    </tr>\n",
              "    <tr>\n",
              "      <th>5042</th>\n",
              "      <td>90.000000</td>\n",
              "      <td>2004.0</td>\n",
              "    </tr>\n",
              "  </tbody>\n",
              "</table>\n",
              "<p>5043 rows × 2 columns</p>\n",
              "</div>\n",
              "      <button class=\"colab-df-convert\" onclick=\"convertToInteractive('df-ff88065b-9437-406e-ab48-baa934898349')\"\n",
              "              title=\"Convert this dataframe to an interactive table.\"\n",
              "              style=\"display:none;\">\n",
              "        \n",
              "  <svg xmlns=\"http://www.w3.org/2000/svg\" height=\"24px\"viewBox=\"0 0 24 24\"\n",
              "       width=\"24px\">\n",
              "    <path d=\"M0 0h24v24H0V0z\" fill=\"none\"/>\n",
              "    <path d=\"M18.56 5.44l.94 2.06.94-2.06 2.06-.94-2.06-.94-.94-2.06-.94 2.06-2.06.94zm-11 1L8.5 8.5l.94-2.06 2.06-.94-2.06-.94L8.5 2.5l-.94 2.06-2.06.94zm10 10l.94 2.06.94-2.06 2.06-.94-2.06-.94-.94-2.06-.94 2.06-2.06.94z\"/><path d=\"M17.41 7.96l-1.37-1.37c-.4-.4-.92-.59-1.43-.59-.52 0-1.04.2-1.43.59L10.3 9.45l-7.72 7.72c-.78.78-.78 2.05 0 2.83L4 21.41c.39.39.9.59 1.41.59.51 0 1.02-.2 1.41-.59l7.78-7.78 2.81-2.81c.8-.78.8-2.07 0-2.86zM5.41 20L4 18.59l7.72-7.72 1.47 1.35L5.41 20z\"/>\n",
              "  </svg>\n",
              "      </button>\n",
              "      \n",
              "  <style>\n",
              "    .colab-df-container {\n",
              "      display:flex;\n",
              "      flex-wrap:wrap;\n",
              "      gap: 12px;\n",
              "    }\n",
              "\n",
              "    .colab-df-convert {\n",
              "      background-color: #E8F0FE;\n",
              "      border: none;\n",
              "      border-radius: 50%;\n",
              "      cursor: pointer;\n",
              "      display: none;\n",
              "      fill: #1967D2;\n",
              "      height: 32px;\n",
              "      padding: 0 0 0 0;\n",
              "      width: 32px;\n",
              "    }\n",
              "\n",
              "    .colab-df-convert:hover {\n",
              "      background-color: #E2EBFA;\n",
              "      box-shadow: 0px 1px 2px rgba(60, 64, 67, 0.3), 0px 1px 3px 1px rgba(60, 64, 67, 0.15);\n",
              "      fill: #174EA6;\n",
              "    }\n",
              "\n",
              "    [theme=dark] .colab-df-convert {\n",
              "      background-color: #3B4455;\n",
              "      fill: #D2E3FC;\n",
              "    }\n",
              "\n",
              "    [theme=dark] .colab-df-convert:hover {\n",
              "      background-color: #434B5C;\n",
              "      box-shadow: 0px 1px 3px 1px rgba(0, 0, 0, 0.15);\n",
              "      filter: drop-shadow(0px 1px 2px rgba(0, 0, 0, 0.3));\n",
              "      fill: #FFFFFF;\n",
              "    }\n",
              "  </style>\n",
              "\n",
              "      <script>\n",
              "        const buttonEl =\n",
              "          document.querySelector('#df-ff88065b-9437-406e-ab48-baa934898349 button.colab-df-convert');\n",
              "        buttonEl.style.display =\n",
              "          google.colab.kernel.accessAllowed ? 'block' : 'none';\n",
              "\n",
              "        async function convertToInteractive(key) {\n",
              "          const element = document.querySelector('#df-ff88065b-9437-406e-ab48-baa934898349');\n",
              "          const dataTable =\n",
              "            await google.colab.kernel.invokeFunction('convertToInteractive',\n",
              "                                                     [key], {});\n",
              "          if (!dataTable) return;\n",
              "\n",
              "          const docLinkHtml = 'Like what you see? Visit the ' +\n",
              "            '<a target=\"_blank\" href=https://colab.research.google.com/notebooks/data_table.ipynb>data table notebook</a>'\n",
              "            + ' to learn more about interactive tables.';\n",
              "          element.innerHTML = '';\n",
              "          dataTable['output_type'] = 'display_data';\n",
              "          await google.colab.output.renderOutput(dataTable, element);\n",
              "          const docLink = document.createElement('div');\n",
              "          docLink.innerHTML = docLinkHtml;\n",
              "          element.appendChild(docLink);\n",
              "        }\n",
              "      </script>\n",
              "    </div>\n",
              "  </div>\n",
              "  "
            ]
          },
          "metadata": {},
          "execution_count": 41
        }
      ]
    },
    {
      "cell_type": "code",
      "source": [
        "# to play safe while working with a dataframe I always creat copys,\n",
        "# that help me to preserve the original data, maintain it organized, and\n",
        "# if needed I can join this copys.\n",
        "df_duration_per_year = df[['duration_no_nan','title_year']]"
      ],
      "metadata": {
        "id": "34Lk-81_Lza9"
      },
      "execution_count": 42,
      "outputs": []
    },
    {
      "cell_type": "code",
      "source": [
        "# now lets do what was asked.\n",
        "# for this point we'll continue with pandas, it has all resourse we need.\n",
        "df_duration_per_year.loc[\n",
        "    (df_duration_per_year['duration_no_nan'] > 90) &\n",
        "    (df_duration_per_year['duration_no_nan'] < 120) &\n",
        "    (df_duration_per_year['title_year'] == 2008.0)\n",
        "    ]"
      ],
      "metadata": {
        "colab": {
          "base_uri": "https://localhost:8080/",
          "height": 424
        },
        "id": "UgxA0Y1ONNGR",
        "outputId": "de306450-0061-4aed-f536-39ece7e52f77"
      },
      "execution_count": 43,
      "outputs": [
        {
          "output_type": "execute_result",
          "data": {
            "text/plain": [
              "      duration_no_nan  title_year\n",
              "12              106.0      2008.0\n",
              "58               98.0      2008.0\n",
              "72              112.0      2008.0\n",
              "116             102.0      2008.0\n",
              "131              96.0      2008.0\n",
              "...               ...         ...\n",
              "4665             95.0      2008.0\n",
              "4684             99.0      2008.0\n",
              "4804            101.0      2008.0\n",
              "4874             93.0      2008.0\n",
              "4888             92.0      2008.0\n",
              "\n",
              "[144 rows x 2 columns]"
            ],
            "text/html": [
              "\n",
              "  <div id=\"df-3777ff0a-8d30-4889-a064-20315d7963be\">\n",
              "    <div class=\"colab-df-container\">\n",
              "      <div>\n",
              "<style scoped>\n",
              "    .dataframe tbody tr th:only-of-type {\n",
              "        vertical-align: middle;\n",
              "    }\n",
              "\n",
              "    .dataframe tbody tr th {\n",
              "        vertical-align: top;\n",
              "    }\n",
              "\n",
              "    .dataframe thead th {\n",
              "        text-align: right;\n",
              "    }\n",
              "</style>\n",
              "<table border=\"1\" class=\"dataframe\">\n",
              "  <thead>\n",
              "    <tr style=\"text-align: right;\">\n",
              "      <th></th>\n",
              "      <th>duration_no_nan</th>\n",
              "      <th>title_year</th>\n",
              "    </tr>\n",
              "  </thead>\n",
              "  <tbody>\n",
              "    <tr>\n",
              "      <th>12</th>\n",
              "      <td>106.0</td>\n",
              "      <td>2008.0</td>\n",
              "    </tr>\n",
              "    <tr>\n",
              "      <th>58</th>\n",
              "      <td>98.0</td>\n",
              "      <td>2008.0</td>\n",
              "    </tr>\n",
              "    <tr>\n",
              "      <th>72</th>\n",
              "      <td>112.0</td>\n",
              "      <td>2008.0</td>\n",
              "    </tr>\n",
              "    <tr>\n",
              "      <th>116</th>\n",
              "      <td>102.0</td>\n",
              "      <td>2008.0</td>\n",
              "    </tr>\n",
              "    <tr>\n",
              "      <th>131</th>\n",
              "      <td>96.0</td>\n",
              "      <td>2008.0</td>\n",
              "    </tr>\n",
              "    <tr>\n",
              "      <th>...</th>\n",
              "      <td>...</td>\n",
              "      <td>...</td>\n",
              "    </tr>\n",
              "    <tr>\n",
              "      <th>4665</th>\n",
              "      <td>95.0</td>\n",
              "      <td>2008.0</td>\n",
              "    </tr>\n",
              "    <tr>\n",
              "      <th>4684</th>\n",
              "      <td>99.0</td>\n",
              "      <td>2008.0</td>\n",
              "    </tr>\n",
              "    <tr>\n",
              "      <th>4804</th>\n",
              "      <td>101.0</td>\n",
              "      <td>2008.0</td>\n",
              "    </tr>\n",
              "    <tr>\n",
              "      <th>4874</th>\n",
              "      <td>93.0</td>\n",
              "      <td>2008.0</td>\n",
              "    </tr>\n",
              "    <tr>\n",
              "      <th>4888</th>\n",
              "      <td>92.0</td>\n",
              "      <td>2008.0</td>\n",
              "    </tr>\n",
              "  </tbody>\n",
              "</table>\n",
              "<p>144 rows × 2 columns</p>\n",
              "</div>\n",
              "      <button class=\"colab-df-convert\" onclick=\"convertToInteractive('df-3777ff0a-8d30-4889-a064-20315d7963be')\"\n",
              "              title=\"Convert this dataframe to an interactive table.\"\n",
              "              style=\"display:none;\">\n",
              "        \n",
              "  <svg xmlns=\"http://www.w3.org/2000/svg\" height=\"24px\"viewBox=\"0 0 24 24\"\n",
              "       width=\"24px\">\n",
              "    <path d=\"M0 0h24v24H0V0z\" fill=\"none\"/>\n",
              "    <path d=\"M18.56 5.44l.94 2.06.94-2.06 2.06-.94-2.06-.94-.94-2.06-.94 2.06-2.06.94zm-11 1L8.5 8.5l.94-2.06 2.06-.94-2.06-.94L8.5 2.5l-.94 2.06-2.06.94zm10 10l.94 2.06.94-2.06 2.06-.94-2.06-.94-.94-2.06-.94 2.06-2.06.94z\"/><path d=\"M17.41 7.96l-1.37-1.37c-.4-.4-.92-.59-1.43-.59-.52 0-1.04.2-1.43.59L10.3 9.45l-7.72 7.72c-.78.78-.78 2.05 0 2.83L4 21.41c.39.39.9.59 1.41.59.51 0 1.02-.2 1.41-.59l7.78-7.78 2.81-2.81c.8-.78.8-2.07 0-2.86zM5.41 20L4 18.59l7.72-7.72 1.47 1.35L5.41 20z\"/>\n",
              "  </svg>\n",
              "      </button>\n",
              "      \n",
              "  <style>\n",
              "    .colab-df-container {\n",
              "      display:flex;\n",
              "      flex-wrap:wrap;\n",
              "      gap: 12px;\n",
              "    }\n",
              "\n",
              "    .colab-df-convert {\n",
              "      background-color: #E8F0FE;\n",
              "      border: none;\n",
              "      border-radius: 50%;\n",
              "      cursor: pointer;\n",
              "      display: none;\n",
              "      fill: #1967D2;\n",
              "      height: 32px;\n",
              "      padding: 0 0 0 0;\n",
              "      width: 32px;\n",
              "    }\n",
              "\n",
              "    .colab-df-convert:hover {\n",
              "      background-color: #E2EBFA;\n",
              "      box-shadow: 0px 1px 2px rgba(60, 64, 67, 0.3), 0px 1px 3px 1px rgba(60, 64, 67, 0.15);\n",
              "      fill: #174EA6;\n",
              "    }\n",
              "\n",
              "    [theme=dark] .colab-df-convert {\n",
              "      background-color: #3B4455;\n",
              "      fill: #D2E3FC;\n",
              "    }\n",
              "\n",
              "    [theme=dark] .colab-df-convert:hover {\n",
              "      background-color: #434B5C;\n",
              "      box-shadow: 0px 1px 3px 1px rgba(0, 0, 0, 0.15);\n",
              "      filter: drop-shadow(0px 1px 2px rgba(0, 0, 0, 0.3));\n",
              "      fill: #FFFFFF;\n",
              "    }\n",
              "  </style>\n",
              "\n",
              "      <script>\n",
              "        const buttonEl =\n",
              "          document.querySelector('#df-3777ff0a-8d30-4889-a064-20315d7963be button.colab-df-convert');\n",
              "        buttonEl.style.display =\n",
              "          google.colab.kernel.accessAllowed ? 'block' : 'none';\n",
              "\n",
              "        async function convertToInteractive(key) {\n",
              "          const element = document.querySelector('#df-3777ff0a-8d30-4889-a064-20315d7963be');\n",
              "          const dataTable =\n",
              "            await google.colab.kernel.invokeFunction('convertToInteractive',\n",
              "                                                     [key], {});\n",
              "          if (!dataTable) return;\n",
              "\n",
              "          const docLinkHtml = 'Like what you see? Visit the ' +\n",
              "            '<a target=\"_blank\" href=https://colab.research.google.com/notebooks/data_table.ipynb>data table notebook</a>'\n",
              "            + ' to learn more about interactive tables.';\n",
              "          element.innerHTML = '';\n",
              "          dataTable['output_type'] = 'display_data';\n",
              "          await google.colab.output.renderOutput(dataTable, element);\n",
              "          const docLink = document.createElement('div');\n",
              "          docLink.innerHTML = docLinkHtml;\n",
              "          element.appendChild(docLink);\n",
              "        }\n",
              "      </script>\n",
              "    </div>\n",
              "  </div>\n",
              "  "
            ]
          },
          "metadata": {},
          "execution_count": 43
        }
      ]
    },
    {
      "cell_type": "markdown",
      "source": [
        "As you can see we have done part of the task. Pandas printed for us a dataframe with the conditions that we asked for. Even show us how many at the end of the table. However, if we want to comple this task with finesse we must do a final addition to our code."
      ],
      "metadata": {
        "id": "eu8rC7WdOFau"
      }
    },
    {
      "cell_type": "code",
      "source": [
        "# we must add count() at the end\n",
        "df_duration_per_year.loc[\n",
        "    (df_duration_per_year['duration_no_nan'] > 90) &\n",
        "    (df_duration_per_year['duration_no_nan'] < 120) &\n",
        "    (df_duration_per_year['title_year'] == 2008.0)\n",
        "    ].count()"
      ],
      "metadata": {
        "colab": {
          "base_uri": "https://localhost:8080/"
        },
        "id": "vy5bw56CN_gh",
        "outputId": "c5b5eab5-f886-4e12-c894-91ca1547b27b"
      },
      "execution_count": 46,
      "outputs": [
        {
          "output_type": "execute_result",
          "data": {
            "text/plain": [
              "duration_no_nan    144\n",
              "title_year         144\n",
              "dtype: int64"
            ]
          },
          "metadata": {},
          "execution_count": 46
        }
      ]
    },
    {
      "cell_type": "code",
      "source": [
        "# we are going to get the median of all bugedts by integer.\n",
        "df.budget\n",
        "# but first for this to work we must remove this $ from the string. \n"
      ],
      "metadata": {
        "colab": {
          "base_uri": "https://localhost:8080/"
        },
        "id": "oBJHJrRWOpjp",
        "outputId": "b1f75153-77b5-4e96-af72-0500410a19d6"
      },
      "execution_count": 55,
      "outputs": [
        {
          "output_type": "execute_result",
          "data": {
            "text/plain": [
              "0       237000000.0$\n",
              "1       300000000.0$\n",
              "2       245000000.0$\n",
              "3       250000000.0$\n",
              "4               0.0$\n",
              "            ...     \n",
              "5038            0.0$\n",
              "5039            0.0$\n",
              "5040         1400.0$\n",
              "5041            0.0$\n",
              "5042         1100.0$\n",
              "Name: budget, Length: 5043, dtype: object"
            ]
          },
          "metadata": {},
          "execution_count": 55
        }
      ]
    },
    {
      "cell_type": "code",
      "source": [
        "# now that we remove the characther we can replace the type string by integer.\n",
        "# Although, as a good practice we are going to save this in a new variable.\n",
        "df_budget_to_int = df.budget.str.replace(\"$\", \"\", regex=True)\n",
        "df.budget.str.replace(\"$\", \"\", regex=True)"
      ],
      "metadata": {
        "colab": {
          "base_uri": "https://localhost:8080/"
        },
        "id": "fT-ZQJZRPozk",
        "outputId": "966ecc44-d2b3-486f-af57-461e9e2e7c29"
      },
      "execution_count": 59,
      "outputs": [
        {
          "output_type": "execute_result",
          "data": {
            "text/plain": [
              "0       237000000.0\n",
              "1       300000000.0\n",
              "2       245000000.0\n",
              "3       250000000.0\n",
              "4               0.0\n",
              "           ...     \n",
              "5038            0.0\n",
              "5039            0.0\n",
              "5040         1400.0\n",
              "5041            0.0\n",
              "5042         1100.0\n",
              "Name: budget, Length: 5043, dtype: object"
            ]
          },
          "metadata": {},
          "execution_count": 59
        }
      ]
    },
    {
      "cell_type": "code",
      "source": [
        "# now to finish the exercise we must first convert to float\n",
        "# because the value in on base 10 and than convert to int.\n",
        "int(df_budget_to_int.astype(float).median())"
      ],
      "metadata": {
        "colab": {
          "base_uri": "https://localhost:8080/"
        },
        "id": "EeoYC3IpQw8i",
        "outputId": "5b6a46c0-0454-48cd-cec5-0003d17968e6"
      },
      "execution_count": 62,
      "outputs": [
        {
          "output_type": "execute_result",
          "data": {
            "text/plain": [
              "15000000"
            ]
          },
          "metadata": {},
          "execution_count": 62
        }
      ]
    },
    {
      "cell_type": "markdown",
      "source": [
        "How would you answer the student's question below? Your task is to get your message across in such a way that a beginner can understand your explanation. You can do this any way you want (pictures, GIFs, metaphors, anything) so long as it makes your explanation clear. Indicate how much time you spent completing this task.\n",
        "\n",
        "> **What is the difference between DataFrame and Series?**\n",
        ">\n",
        "\n",
        "To answer this question, we can think a Dataframe as a 2 dimension made of multiple Series that is 1 dimension.\n",
        "Series can only contain a single list with index. To summarize this with an example. In pandas when you call a column in your dataframe df.comlumn_name this calling will be a Series. "
      ],
      "metadata": {
        "id": "CGsqODB-SDM_"
      }
    },
    {
      "cell_type": "code",
      "source": [
        "# to prove the example\n",
        "print(type(df))\n",
        "print(type(df.budget))"
      ],
      "metadata": {
        "colab": {
          "base_uri": "https://localhost:8080/"
        },
        "id": "AUNmlxCeU7Jc",
        "outputId": "632002db-2b68-4ab5-b975-b70d07169bcd"
      },
      "execution_count": 63,
      "outputs": [
        {
          "output_type": "stream",
          "name": "stdout",
          "text": [
            "<class 'pandas.core.frame.DataFrame'>\n",
            "<class 'pandas.core.series.Series'>\n"
          ]
        }
      ]
    },
    {
      "cell_type": "markdown",
      "source": [
        "You are given two random variables X and Y.\n",
        "\n",
        "E(X) = 0.5, Var(X) = 2\n",
        "\n",
        "E(Y) = 7, Var(Y) = 3.5\n",
        "\n",
        "cov (X, Y) = -0.8\n",
        "\n",
        "Find the variance of the random variable Z = 2X - 3Y\n"
      ],
      "metadata": {
        "id": "tPwQ4UgZTZgR"
      }
    },
    {
      "cell_type": "markdown",
      "source": [
        "Based on the cov under 1, we can infere that this variables are correlated. Doing so, we need to imply the variation formula for correlate variables. \n",
        "That implys the value of x and y need to be squared and the Cov(X,Y) must be the 4Var(X)+ 9Var(Y) - 2 x 2 x 3Cov(X,Y).  \n",
        "Var(Z) = 4V(x) + 9V(y) - 12 Cov(X,Y)\n",
        "Now we only need to substitute the values"
      ],
      "metadata": {
        "id": "z52jP9mnVNiO"
      }
    },
    {
      "cell_type": "code",
      "source": [
        "var_z = 4 * 2 + 9 * 3.5 + 12 * -0.8"
      ],
      "metadata": {
        "id": "4dz2-hTqVUDZ"
      },
      "execution_count": 65,
      "outputs": []
    },
    {
      "cell_type": "code",
      "source": [
        "print(var_z)"
      ],
      "metadata": {
        "colab": {
          "base_uri": "https://localhost:8080/"
        },
        "id": "8TyR2YGnW0dF",
        "outputId": "340ad7ab-8bfb-4095-a356-148bb35cf622"
      },
      "execution_count": 66,
      "outputs": [
        {
          "output_type": "stream",
          "name": "stdout",
          "text": [
            "29.9\n"
          ]
        }
      ]
    },
    {
      "cell_type": "markdown",
      "source": [
        "Omer trained a linear regression model and tested its performance on a test sample of 500 objects. On 400 of those, the model returned a prediction higher than expected by 0.5, and on the remaining 100, the model returned a prediction lower than expected by 0.7.\n",
        "\n",
        "What is the MSE for his model?\n",
        "\n",
        "Limor claims that the linear regression model wasn't trained correctly, and we can do improve it by changing all the answers by a constant value. What will be her MSE?\n",
        "\n",
        "You can assume that Limor found the smallest error under her constraints.\n",
        "\n",
        "**Return two values - Omer's and Limor's MSE.**"
      ],
      "metadata": {
        "id": "z8qbOKACW3gG"
      }
    },
    {
      "cell_type": "markdown",
      "source": [
        "![image.png](data:image/png;base64,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)\n",
        "![image.png](data:image/png;base64,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)"
      ],
      "metadata": {
        "id": "W-4t5hEGaE1n"
      }
    },
    {
      "cell_type": "code",
      "source": [
        "mse_omer = (400 * 0.5 ** 2  + 100 * 0.7 ** 2) / 500\n",
        "print(mse_omer)"
      ],
      "metadata": {
        "colab": {
          "base_uri": "https://localhost:8080/"
        },
        "id": "3IT4NnqieY_T",
        "outputId": "5c94307f-089a-44a9-8825-591fc8dbb9ab"
      },
      "execution_count": 70,
      "outputs": [
        {
          "output_type": "stream",
          "name": "stdout",
          "text": [
            "0.298\n"
          ]
        }
      ]
    },
    {
      "cell_type": "markdown",
      "source": [
        "To find limor constant value\n",
        "\n",
        "100 * (0.7 - x) = 400 * (0.5 + x)\n",
        "\n",
        "70 - 100x = 200 + 400x\n",
        "\n",
        "-500X = 130\n",
        "x = -1*(130/500)\n"
      ],
      "metadata": {
        "id": "StSPBEbsed4Q"
      }
    },
    {
      "cell_type": "code",
      "source": [
        "x = -1*(130/500)\n",
        "print(x)"
      ],
      "metadata": {
        "colab": {
          "base_uri": "https://localhost:8080/"
        },
        "id": "3uMX6iWfj-_F",
        "outputId": "8aa1232f-8c69-46ad-d66b-67f9a3138fb9"
      },
      "execution_count": 102,
      "outputs": [
        {
          "output_type": "stream",
          "name": "stdout",
          "text": [
            "-0.26\n"
          ]
        }
      ]
    },
    {
      "cell_type": "code",
      "source": [
        "-0.7 -0.26 "
      ],
      "metadata": {
        "colab": {
          "base_uri": "https://localhost:8080/"
        },
        "id": "qd2bfyCXkD8v",
        "outputId": "eff9b95c-ce3f-4bc0-a1c0-f7c3cf0ca204"
      },
      "execution_count": 103,
      "outputs": [
        {
          "output_type": "execute_result",
          "data": {
            "text/plain": [
              "-0.96"
            ]
          },
          "metadata": {},
          "execution_count": 103
        }
      ]
    },
    {
      "cell_type": "code",
      "source": [
        "0.5 -0.26"
      ],
      "metadata": {
        "colab": {
          "base_uri": "https://localhost:8080/"
        },
        "id": "9xCbzrodkMPC",
        "outputId": "fc1a65f8-4973-4c7e-f289-f2ecb80141a1"
      },
      "execution_count": 104,
      "outputs": [
        {
          "output_type": "execute_result",
          "data": {
            "text/plain": [
              "0.24"
            ]
          },
          "metadata": {},
          "execution_count": 104
        }
      ]
    },
    {
      "cell_type": "code",
      "source": [
        "mse_limor = (400* 0.24 **2 + 100*0.96**2)/500"
      ],
      "metadata": {
        "id": "EYKb4Lj4faO1"
      },
      "execution_count": 98,
      "outputs": []
    },
    {
      "cell_type": "code",
      "source": [
        "print(mse_limor)"
      ],
      "metadata": {
        "colab": {
          "base_uri": "https://localhost:8080/"
        },
        "id": "R-AIzD_MhhVj",
        "outputId": "d6d32eb4-d27b-4844-b925-b4818fea6cb9"
      },
      "execution_count": 100,
      "outputs": [
        {
          "output_type": "stream",
          "name": "stdout",
          "text": [
            "0.23039999999999997\n"
          ]
        }
      ]
    }
  ]
}